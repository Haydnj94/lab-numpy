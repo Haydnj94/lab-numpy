{
 "cells": [
  {
   "cell_type": "code",
   "execution_count": 4,
   "id": "16dc5afe-d43c-41dc-9ef5-bc81b7f3955b",
   "metadata": {},
   "outputs": [],
   "source": [
    "import numpy as np"
   ]
  },
  {
   "cell_type": "code",
   "execution_count": 8,
   "id": "1b636768-fb6a-4223-a555-9aeb99c12927",
   "metadata": {
    "panel-layout": {
     "height": 68.0078125,
     "visible": true,
     "width": 100
    }
   },
   "outputs": [
    {
     "data": {
      "text/plain": [
       "array([0., 0., 0., 0., 0., 0., 0., 0., 0., 0.])"
      ]
     },
     "execution_count": 8,
     "metadata": {},
     "output_type": "execute_result"
    }
   ],
   "source": [
    "np.zeros([10])"
   ]
  },
  {
   "cell_type": "code",
   "execution_count": 14,
   "id": "c2a432e1-4d91-4b93-9a8b-2ab949ac627f",
   "metadata": {
    "panel-layout": {
     "height": 0,
     "visible": true,
     "width": 100
    }
   },
   "outputs": [
    {
     "name": "stdout",
     "output_type": "stream",
     "text": [
      "[0. 0. 0. 0. 1. 0. 0. 0. 0. 0.]\n"
     ]
    }
   ],
   "source": [
    "arr = np.zeros(10)\n",
    "arr[4] = 1  #\n",
    "\n",
    "print(arr)"
   ]
  },
  {
   "cell_type": "code",
   "execution_count": 20,
   "id": "56054d79-bdee-4985-a202-08bd9fd5f731",
   "metadata": {
    "panel-layout": {
     "height": 44.27734375,
     "visible": true,
     "width": 100
    }
   },
   "outputs": [
    {
     "data": {
      "text/plain": [
       "array([10, 11, 12, 13, 14, 15, 16, 17, 18, 19, 20, 21, 22, 23, 24, 25, 26,\n",
       "       27, 28, 29, 30, 31, 32, 33, 34, 35, 36, 37, 38, 39, 40, 41, 42, 43,\n",
       "       44, 45, 46, 47, 48, 49])"
      ]
     },
     "execution_count": 20,
     "metadata": {},
     "output_type": "execute_result"
    }
   ],
   "source": [
    "np.arange(10, 50)"
   ]
  },
  {
   "cell_type": "code",
   "execution_count": 31,
   "id": "7b42ca26-8c9e-45fb-8f34-adf7352ca53e",
   "metadata": {
    "panel-layout": {
     "height": 61.416015625,
     "visible": true,
     "width": 100
    }
   },
   "outputs": [
    {
     "data": {
      "text/plain": [
       "array([[0, 1, 2],\n",
       "       [3, 4, 5],\n",
       "       [6, 7, 8]])"
      ]
     },
     "execution_count": 31,
     "metadata": {},
     "output_type": "execute_result"
    }
   ],
   "source": [
    "np.arange(0, 9).reshape((3, 3))"
   ]
  },
  {
   "cell_type": "code",
   "execution_count": 45,
   "id": "35076608-c99b-4a25-bc04-be67edc63236",
   "metadata": {
    "panel-layout": {
     "height": 27.138671875,
     "visible": true,
     "width": 100
    }
   },
   "outputs": [
    {
     "data": {
      "text/plain": [
       "(array([0, 1, 4]),)"
      ]
     },
     "execution_count": 45,
     "metadata": {},
     "output_type": "execute_result"
    }
   ],
   "source": [
    "np.nonzero([1, 2, 0, 0, 4, 0])"
   ]
  },
  {
   "cell_type": "code",
   "execution_count": 48,
   "id": "451330f2-42e6-4043-b055-a02cfdb44ede",
   "metadata": {
    "panel-layout": {
     "height": 61.416015625,
     "visible": true,
     "width": 100
    }
   },
   "outputs": [
    {
     "data": {
      "text/plain": [
       "array([[1., 0., 0.],\n",
       "       [0., 1., 0.],\n",
       "       [0., 0., 1.]])"
      ]
     },
     "execution_count": 48,
     "metadata": {},
     "output_type": "execute_result"
    }
   ],
   "source": [
    "np.eye(3,3)"
   ]
  },
  {
   "cell_type": "code",
   "execution_count": 63,
   "id": "53ef323f-5ea1-4d47-906c-19dbf9d204c1",
   "metadata": {
    "panel-layout": {
     "height": 61.416015625,
     "visible": true,
     "width": 100
    }
   },
   "outputs": [
    {
     "data": {
      "text/plain": [
       "array([[0.83022915, 0.64569239, 0.63167977],\n",
       "       [0.14701512, 0.31817514, 0.53380311],\n",
       "       [0.8296244 , 0.59593648, 0.52899071]])"
      ]
     },
     "execution_count": 63,
     "metadata": {},
     "output_type": "execute_result"
    }
   ],
   "source": [
    "np.random.random(9).reshape((3, 3))"
   ]
  },
  {
   "cell_type": "code",
   "execution_count": 76,
   "id": "658d1467-9378-4972-876d-1a90fd592697",
   "metadata": {
    "panel-layout": {
     "height": 0,
     "visible": true,
     "width": 100
    }
   },
   "outputs": [
    {
     "name": "stdout",
     "output_type": "stream",
     "text": [
      "0.0007604415590566349\n",
      "0.9974753646319291\n"
     ]
    }
   ],
   "source": [
    "a = np.random.random(100).reshape((10, 10))\n",
    "\n",
    "# Mean of each column in matrix a\n",
    "print(np.min(a))\n",
    "  \n",
    "# Mean of each row in matrix a\n",
    "print(np.max(a))"
   ]
  },
  {
   "cell_type": "code",
   "execution_count": 82,
   "id": "549151dc-f607-419c-8693-ed9e397dae04",
   "metadata": {
    "panel-layout": {
     "height": 27.138671875,
     "visible": true,
     "width": 100
    }
   },
   "outputs": [
    {
     "data": {
      "text/plain": [
       "0.4767691720432778"
      ]
     },
     "execution_count": 82,
     "metadata": {},
     "output_type": "execute_result"
    }
   ],
   "source": [
    "b = np.random.random(30)\n",
    "\n",
    "np.mean(b)"
   ]
  },
  {
   "cell_type": "code",
   "execution_count": 98,
   "id": "f3124416-ee73-433e-8475-8d6ead88fc29",
   "metadata": {
    "panel-layout": {
     "height": 95.693359375,
     "visible": true,
     "width": 100
    }
   },
   "outputs": [
    {
     "data": {
      "text/plain": [
       "array([[0., 0., 0., 0., 0.],\n",
       "       [1., 0., 0., 0., 0.],\n",
       "       [0., 2., 0., 0., 0.],\n",
       "       [0., 0., 3., 0., 0.],\n",
       "       [0., 0., 0., 4., 0.]])"
      ]
     },
     "execution_count": 98,
     "metadata": {},
     "output_type": "execute_result"
    }
   ],
   "source": [
    "arr = np.zeros((5, 5))  # Create a 5x5 matrix of zeros\n",
    "\n",
    "# Place the values 1, 2, 3, 4 just below the diagonal\n",
    "np.fill_diagonal(arr[1:], [1, 2, 3, 4])\n",
    "\n",
    "arr"
   ]
  },
  {
   "cell_type": "code",
   "execution_count": 109,
   "id": "cd84aa22-077c-45b6-bdae-4ad73812acba",
   "metadata": {
    "panel-layout": {
     "height": 0,
     "visible": true,
     "width": 100
    }
   },
   "outputs": [
    {
     "name": "stdout",
     "output_type": "stream",
     "text": [
      "Original Matrix:\n",
      " [[0.71585646 0.17574653 0.246529   0.46857383 0.59141035]\n",
      " [0.80904487 0.56354164 0.42276459 0.90561126 0.97261213]\n",
      " [0.64796499 0.99691814 0.23357747 0.44768334 0.92733544]\n",
      " [0.28575872 0.28042678 0.45978367 0.54935891 0.86358592]\n",
      " [0.86656355 0.35136939 0.13553627 0.56294915 0.92791076]]\n",
      "\n",
      "Normalized Matrix:\n",
      " [[ 0.5192514  -1.49087592 -1.22744479 -0.40106048  0.05610027]\n",
      " [ 0.86607073 -0.04761871 -0.57154873  1.22546188  1.47481905]\n",
      " [ 0.26657968  1.56527874 -1.27564649 -0.47880861  1.30631276]\n",
      " [-1.08144353 -1.1012874  -0.43377481 -0.10040262  1.06905617]\n",
      " [ 1.08013801 -0.83726027 -1.64052646 -0.04982382  1.30845396]]\n"
     ]
    }
   ],
   "source": [
    "matrix = np.random.rand(5, 5)\n",
    "\n",
    "# Calculate the mean and standard deviation\n",
    "mean = np.mean(matrix)\n",
    "std = np.std(matrix)\n",
    "\n",
    "# Normalize the matrix\n",
    "normalized_matrix = (matrix - mean) / std\n",
    "\n",
    "print(\"Original Matrix:\\n\", matrix)\n",
    "print(\"\\nNormalized Matrix:\\n\", normalized_matrix)"
   ]
  },
  {
   "cell_type": "code",
   "execution_count": 111,
   "id": "ce0240ba-ae31-4b62-8de0-850afba4cb3b",
   "metadata": {
    "panel-layout": {
     "height": 0,
     "visible": true,
     "width": 100
    }
   },
   "outputs": [
    {
     "name": "stdout",
     "output_type": "stream",
     "text": [
      "[3 4 5]\n"
     ]
    }
   ],
   "source": [
    "array1 = np.array([1, 2, 3, 4, 5])\n",
    "array2 = np.array([3, 4, 5, 6, 7])\n",
    "\n",
    "common_values = np.intersect1d(array1, array2)\n",
    "\n",
    "print(common_values)"
   ]
  },
  {
   "cell_type": "code",
   "execution_count": 113,
   "id": "048ea246-5aa5-4677-8582-7a5ac46bda80",
   "metadata": {
    "panel-layout": {
     "height": 0,
     "visible": true,
     "width": 100
    }
   },
   "outputs": [
    {
     "name": "stdout",
     "output_type": "stream",
     "text": [
      "Original Vector:\n",
      " [0.4130186  0.88427933 0.74162299 0.58609227 0.87890567 0.31304661\n",
      " 0.61532009 0.23320375 0.95798498 0.49069249]\n",
      "\n",
      "Sorted Vector:\n",
      " [0.23320375 0.31304661 0.4130186  0.49069249 0.58609227 0.61532009\n",
      " 0.74162299 0.87890567 0.88427933 0.95798498]\n"
     ]
    }
   ],
   "source": [
    "# Create a random vector of size 10\n",
    "random_vector = np.random.rand(10)\n",
    "\n",
    "# Sort the vector\n",
    "sorted_vector = np.sort(random_vector)\n",
    "\n",
    "print(\"Original Vector:\\n\", random_vector)\n",
    "print(\"\\nSorted Vector:\\n\", sorted_vector)"
   ]
  },
  {
   "cell_type": "code",
   "execution_count": 115,
   "id": "eaafcbf6-3b5e-4236-9a39-f1b84bd9663c",
   "metadata": {
    "panel-layout": {
     "height": 0,
     "visible": true,
     "width": 100
    }
   },
   "outputs": [
    {
     "name": "stdout",
     "output_type": "stream",
     "text": [
      "Original Vector:\n",
      " [0.         0.40402372 0.44340495 0.4258655  0.68018954 0.34717778\n",
      " 0.43528319 0.39116078 0.4978826  0.5738955 ]\n"
     ]
    }
   ],
   "source": [
    "# Create a random vector of size 10\n",
    "random_vector = np.random.rand(10)\n",
    "\n",
    "# Find the index of the maximum value\n",
    "max_index = np.argmax(random_vector)\n",
    "\n",
    "# Replace the maximum value with 0\n",
    "random_vector[max_index] = 0\n",
    "\n",
    "print(\"Original Vector:\\n\", random_vector)"
   ]
  },
  {
   "cell_type": "code",
   "execution_count": 16,
   "id": "9dfa74db-84a2-4768-b720-48b478e4f80f",
   "metadata": {
    "panel-layout": {
     "height": 0,
     "visible": true,
     "width": 100
    }
   },
   "outputs": [
    {
     "name": "stdout",
     "output_type": "stream",
     "text": [
      "Original Matrix:\n",
      " [[0.30248704 0.81258376 0.8668437  0.71775138 0.74947404 0.54719483]\n",
      " [0.24469584 0.61148488 0.49425    0.62051279 0.63161708 0.37269193]\n",
      " [0.57091505 0.69078413 0.3733037  0.26160851 0.66948756 0.86727102]\n",
      " [0.05300366 0.10323909 0.23014562 0.17193283 0.89393973 0.93502912]\n",
      " [0.0419467  0.04760294 0.5135387  0.33887399 0.9224298  0.48602486]\n",
      " [0.65495328 0.00809486 0.95400245 0.16159671 0.97099524 0.58505212]]\n",
      "\n",
      "Centered Matrix:\n",
      " [[-0.36356875  0.14652797  0.2007879   0.05169559  0.08341825 -0.11886096]\n",
      " [-0.25117958  0.11560946 -0.00162542  0.12463737  0.13574166 -0.12318349]\n",
      " [-0.00131328  0.1185558  -0.19892463 -0.31061982  0.09725923  0.2950427 ]\n",
      " [-0.34487801 -0.29464259 -0.16773606 -0.22594884  0.49605806  0.53714744]\n",
      " [-0.34978946 -0.34413322  0.12180254 -0.05286218  0.53069363  0.09428869]\n",
      " [ 0.09917084 -0.54768759  0.39822    -0.39418573  0.4152128   0.02926968]]\n"
     ]
    }
   ],
   "source": [
    "matrix = np.random.rand(6, 6)  # 4 rows, 5 columns\n",
    "\n",
    "# Calculate the row means\n",
    "row_means = np.mean(matrix, axis=1, keepdims=True)\n",
    "\n",
    "# Subtract the row means from the matrix\n",
    "centered_matrix = matrix - row_means\n",
    "\n",
    "print(\"Original Matrix:\\n\", matrix)\n",
    "print(\"\\nCentered Matrix:\\n\", centered_matrix)"
   ]
  },
  {
   "cell_type": "code",
   "execution_count": 119,
   "id": "1116779c-e3dd-402d-af75-f7b2ead8f2c5",
   "metadata": {
    "panel-layout": {
     "height": 0,
     "visible": true,
     "width": 100
    }
   },
   "outputs": [
    {
     "name": "stdout",
     "output_type": "stream",
     "text": [
      "Largest Values (argsort):\n",
      " [9995 9996 9997 9998 9999]\n",
      "\n",
      "Largest Values (argpartition):\n",
      " [9995 9997 9996 9999 9998]\n"
     ]
    }
   ],
   "source": [
    "Z = np.arange(10000)\n",
    "np.random.shuffle(Z)\n",
    "n = 5\n",
    "\n",
    "# Using np.argsort (returns indices of sorted array)\n",
    "largest_indices = np.argsort(Z)[-n:]\n",
    "largest_values = Z[largest_indices]\n",
    "\n",
    "# Using np.argpartition (partitions the array around the nth largest element)\n",
    "largest_values_partition = Z[np.argpartition(Z, -n)[-n:]]\n",
    "\n",
    "print(\"Largest Values (argsort):\\n\", largest_values)\n",
    "print(\"\\nLargest Values (argpartition):\\n\", largest_values_partition)"
   ]
  },
  {
   "cell_type": "code",
   "execution_count": 121,
   "id": "d36a22a1-e3f3-4027-9d26-f11c7bb7a58d",
   "metadata": {
    "panel-layout": {
     "height": 0,
     "visible": true,
     "width": 100
    }
   },
   "outputs": [
    {
     "name": "stdout",
     "output_type": "stream",
     "text": [
      "Original Matrix:\n",
      " [[1 6 7]\n",
      " [6 2 6]\n",
      " [7 5 1]\n",
      " [9 1 9]\n",
      " [2 2 7]]\n",
      "\n",
      "Squared Matrix:\n",
      " [[ 1 36 49]\n",
      " [36  2 36]\n",
      " [49 25  1]\n",
      " [81  1 81]\n",
      " [ 2  2 49]]\n"
     ]
    }
   ],
   "source": [
    "matrix = np.random.randint(1, 10, size=(5, 3))  # Random integers between 1 and 9\n",
    "\n",
    "# Replace elements > 4 with their squares\n",
    "squared_matrix = np.where(matrix > 4, matrix**2, matrix)\n",
    "\n",
    "print(\"Original Matrix:\\n\", matrix)\n",
    "print(\"\\nSquared Matrix:\\n\", squared_matrix)"
   ]
  },
  {
   "cell_type": "code",
   "execution_count": null,
   "id": "17b8fde3-1f35-4c1a-ab23-5e6a47d3eca0",
   "metadata": {},
   "outputs": [],
   "source": []
  }
 ],
 "metadata": {
  "kernelspec": {
   "display_name": "Python [conda env:base] *",
   "language": "python",
   "name": "conda-base-py"
  },
  "language_info": {
   "codemirror_mode": {
    "name": "ipython",
    "version": 3
   },
   "file_extension": ".py",
   "mimetype": "text/x-python",
   "name": "python",
   "nbconvert_exporter": "python",
   "pygments_lexer": "ipython3",
   "version": "3.12.7"
  },
  "panel-cell-order": [
   "1b636768-fb6a-4223-a555-9aeb99c12927",
   "c2a432e1-4d91-4b93-9a8b-2ab949ac627f",
   "56054d79-bdee-4985-a202-08bd9fd5f731",
   "7b42ca26-8c9e-45fb-8f34-adf7352ca53e",
   "35076608-c99b-4a25-bc04-be67edc63236",
   "451330f2-42e6-4043-b055-a02cfdb44ede",
   "53ef323f-5ea1-4d47-906c-19dbf9d204c1",
   "658d1467-9378-4972-876d-1a90fd592697",
   "549151dc-f607-419c-8693-ed9e397dae04",
   "f3124416-ee73-433e-8475-8d6ead88fc29",
   "cd84aa22-077c-45b6-bdae-4ad73812acba",
   "ce0240ba-ae31-4b62-8de0-850afba4cb3b",
   "048ea246-5aa5-4677-8582-7a5ac46bda80",
   "eaafcbf6-3b5e-4236-9a39-f1b84bd9663c",
   "9dfa74db-84a2-4768-b720-48b478e4f80f",
   "1116779c-e3dd-402d-af75-f7b2ead8f2c5",
   "d36a22a1-e3f3-4027-9d26-f11c7bb7a58d"
  ]
 },
 "nbformat": 4,
 "nbformat_minor": 5
}
